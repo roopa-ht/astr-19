{
 "cells": [
  {
   "cell_type": "markdown",
   "id": "8baadb54-e203-44e3-a83b-d47894dc62ad",
   "metadata": {},
   "source": [
    "#### Session 6 Prompt"
   ]
  },
  {
   "cell_type": "markdown",
   "id": "8b5485f3-91ef-44ee-97ac-2bd58a1aee4e",
   "metadata": {},
   "source": [
    "Create a Jupyter Notebook where, in separate cells, you define functions that return sin(x) and cos(x). <br> \n",
    "Use Markdown cells to comment your Notebook, and describe what each function does. <br>\n",
    "Create a third Python cell that will tabulate sin(x) and cos(x) using these previously defined functions vs. x, where x is tabulated between 0 and 2pi with a thousand entries. <br>\n",
    "Write a fourth Python cell that will use a for loop to print out the first 10 values of x, sin(x), and cos(x) in columns."
   ]
  },
  {
   "cell_type": "code",
   "execution_count": 14,
   "id": "bf7aa65c-5c71-4d73-8655-1a75f48373d3",
   "metadata": {},
   "outputs": [],
   "source": [
    "import numpy as np\n",
    "from tabulate import tabulate"
   ]
  },
  {
   "cell_type": "markdown",
   "id": "ceb311e3-72cd-42c7-8ffe-0b6935295d28",
   "metadata": {},
   "source": [
    "#### Define x"
   ]
  },
  {
   "cell_type": "code",
   "execution_count": 8,
   "id": "0179232a-3fd7-47ee-9a25-7f2549226200",
   "metadata": {},
   "outputs": [],
   "source": [
    "x = np.linspace(0, 2 * np.pi, 1000)"
   ]
  },
  {
   "cell_type": "markdown",
   "id": "4f779ba6-6fb3-4058-94b1-6e8933cb18fb",
   "metadata": {},
   "source": [
    "#### Function sin(x)"
   ]
  },
  {
   "cell_type": "code",
   "execution_count": 10,
   "id": "bc304c46-5f86-42f3-9dc6-ee9569d06213",
   "metadata": {},
   "outputs": [],
   "source": [
    "def sin_x(x):\n",
    "    return np.sin(x)"
   ]
  },
  {
   "cell_type": "markdown",
   "id": "d0d816e5-3708-4245-90b2-59fd5a64ffdd",
   "metadata": {},
   "source": [
    "#### Function cos(x)"
   ]
  },
  {
   "cell_type": "code",
   "execution_count": 11,
   "id": "06aaf2b1-96ef-4d7c-8f69-3f63ffde930b",
   "metadata": {},
   "outputs": [],
   "source": [
    "def cos_x(x):\n",
    "    return np.cos(x)"
   ]
  },
  {
   "cell_type": "markdown",
   "id": "db0fdc92-e564-4356-a3fb-5f6acc913dc9",
   "metadata": {},
   "source": [
    "#### Tabulate sin(x) and cos(x)"
   ]
  },
  {
   "cell_type": "code",
   "execution_count": 22,
   "id": "aaff4ee0-e988-41b6-8b69-c696a0f68bf0",
   "metadata": {},
   "outputs": [],
   "source": [
    "table_sincontent = [(y, z) for y, z in zip(x, sin_x(x))]\n",
    "\n",
    "table_sintitle = [\"x\", \"sin(x)\"]\n",
    "function_sintable = tabulate(table_sincontent, tablefmt = \"grid\", headers = table_sintitle, floatfmt = \".3f\")\n",
    "\n",
    "table_coscontent = [(a, b) for a, b in zip(x, cos_x(x))]\n",
    "\n",
    "table_costitle = [\"x\", \"cos(x)\"]\n",
    "function_costable = tabulate(table_coscontent, tablefmt = \"grid\", headers = table_costitle, floatfmt = \".3f\")"
   ]
  },
  {
   "cell_type": "markdown",
   "id": "aa86cc35-d35e-4264-8b70-6548b7abf0c7",
   "metadata": {},
   "source": [
    "#### For loop of the first 10 values of x, sin(x), and cos(x)"
   ]
  },
  {
   "cell_type": "code",
   "execution_count": 77,
   "id": "4677970d-fb47-43f4-b693-32f43b215346",
   "metadata": {},
   "outputs": [
    {
     "name": "stdout",
     "output_type": "stream",
     "text": [
      "1 . (np.float64(0.0), np.float64(0.0))\n",
      "2 . (np.float64(0.006289474781961547), np.float64(0.006289433316067751))\n",
      "3 . (np.float64(0.012578949563923095), np.float64(0.012578617838741058))\n",
      "4 . (np.float64(0.018868424345884642), np.float64(0.01886730478446709))\n",
      "5 . (np.float64(0.02515789912784619), np.float64(0.025155245389375847))\n",
      "6 . (np.float64(0.03144737390980774), np.float64(0.0314421909191206))\n",
      "7 . (np.float64(0.037736848691769284), np.float64(0.03772789267871718))\n",
      "8 . (np.float64(0.04402632347373083), np.float64(0.04401210202238166))\n",
      "9 . (np.float64(0.05031579825569238), np.float64(0.05029457036336618))\n",
      "10 . (np.float64(0.056605273037653926), np.float64(0.056575049183792345))\n",
      " \n",
      "1 . (np.float64(0.0), np.float64(1.0))\n",
      "2 . (np.float64(0.006289474781961547), np.float64(0.9999802213186832))\n",
      "3 . (np.float64(0.012578949563923095), np.float64(0.9999208860571255))\n",
      "4 . (np.float64(0.018868424345884642), np.float64(0.9998219965624732))\n",
      "5 . (np.float64(0.02515789912784619), np.float64(0.9996835567465339))\n",
      "6 . (np.float64(0.03144737390980774), np.float64(0.9995055720856215))\n",
      "7 . (np.float64(0.037736848691769284), np.float64(0.99928804962034))\n",
      "8 . (np.float64(0.04402632347373083), np.float64(0.9990309979553044))\n",
      "9 . (np.float64(0.05031579825569238), np.float64(0.9987344272588006))\n",
      "10 . (np.float64(0.056605273037653926), np.float64(0.9983983492623831))\n"
     ]
    }
   ],
   "source": [
    "i = 0\n",
    "j = 0\n",
    "\n",
    "for i in range(i, 10):\n",
    "    print(i+1, \".\", (table_sincontent[i]))\n",
    "print(\" \")\n",
    "for j in range(j, 10):\n",
    "    print(j+1, \".\", (table_coscontent[j]))"
   ]
  },
  {
   "cell_type": "code",
   "execution_count": null,
   "id": "2d2ed5c1-397f-4331-bd0b-6e9a25fcfd1b",
   "metadata": {},
   "outputs": [],
   "source": []
  }
 ],
 "metadata": {
  "kernelspec": {
   "display_name": "Python 3 (ipykernel)",
   "language": "python",
   "name": "python3"
  },
  "language_info": {
   "codemirror_mode": {
    "name": "ipython",
    "version": 3
   },
   "file_extension": ".py",
   "mimetype": "text/x-python",
   "name": "python",
   "nbconvert_exporter": "python",
   "pygments_lexer": "ipython3",
   "version": "3.13.2"
  }
 },
 "nbformat": 4,
 "nbformat_minor": 5
}
